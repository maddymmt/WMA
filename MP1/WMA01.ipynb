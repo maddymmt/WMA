{
 "cells": [
  {
   "cell_type": "markdown",
   "source": [
    "# Task Description\n",
    "Write a program that tracks a colored object (a red ball). In the video file \"movingball.mp4,\" there is a moving object. You need to determine the color range of the red ball. For each frame of the video, you should:\n",
    "1. Convert the image format to HSV.\n",
    "2. Identify pixels that meet the color requirements (the red object).\n",
    "3. Apply morphological operations to improve the mask (remove noise and fill gaps).\n",
    "4. Determine the center of gravity of the ball (coordinates of its center).\n",
    "5. Mark the center of gravity on the video.\n",
    "\n",
    "# Opis zadania\n",
    "Napisz program, który śledzi kolorowy obiekt (czerwoną piłkę). Na filmie \"movingball.mp4\" znajduje się poruszający się obiekt. Należy określić zakres kolorów czerwonej piłki. Dla każdej klatki filmu należy:\n",
    "1. Zmienić format obrazu na HSV.\n",
    "2. Określić piksele, które spełniają wymagania koloru (czerwony obiekt).\n",
    "3. Zastosować operacje morfologiczne celem poprawy maski (usunięcie szumów oraz wypełnienie braków).\n",
    "4. Określić środek ciężkości piłki - współrzędne jej środka.\n",
    "5. Zaznaczyć na filmie środek ciężkości."
   ],
   "metadata": {
    "collapsed": false
   }
  },
  {
   "cell_type": "code",
   "execution_count": 3,
   "outputs": [],
   "source": [
    "import cv2 as cv\n",
    "import numpy as np\n",
    "\n",
    "# Open the video file\n",
    "cap = cv.VideoCapture(\"movingball.mp4\")\n",
    "\n",
    "while cap.isOpened():\n",
    "    # Take each frame\n",
    "    ret, frame = cap.read()\n",
    "\n",
    "    # Check if frame reading was successful\n",
    "    if not ret:\n",
    "        break\n",
    "\n",
    "    # Resize frame to a smaller size\n",
    "    frame = cv.resize(frame, (480, 640))\n",
    "\n",
    "    # Convert BGR to HSV\n",
    "    hsv = cv.cvtColor(frame, cv.COLOR_BGR2HSV)\n",
    "\n",
    "    # Define range of red color in HSV\n",
    "    lower_red = np.array([0, 80, 180])\n",
    "    upper_red = np.array([180, 255, 255])\n",
    "\n",
    "    # Threshold the HSV image to get only red colors\n",
    "    mask = cv.inRange(hsv, lower_red, upper_red)\n",
    "\n",
    "    # Apply erosion to reduce noise in the mask\n",
    "    kernel = np.ones((5, 5), np.uint8)\n",
    "    erosion = cv.erode(mask, kernel, iterations=1)\n",
    "\n",
    "    # Apply dilation to enhance the mask\n",
    "    dilation = cv.dilate(erosion, kernel, iterations=1)\n",
    "\n",
    "    # Bitwise-AND mask and original image\n",
    "    res = cv.bitwise_and(frame, frame, mask=dilation)\n",
    "\n",
    "    # Calculate the moments of the dilation\n",
    "    M = cv.moments(dilation)\n",
    "\n",
    "    # Calculate the centroid of the object\n",
    "    cX = int(M[\"m10\"] / M[\"m00\"])\n",
    "    cY = int(M[\"m01\"] / M[\"m00\"])\n",
    "\n",
    "    # Draw a circle at the centroid position\n",
    "    cv.circle(frame, (cX, cY), 5, (255, 0, 0), -1)\n",
    "\n",
    "    # Display the resulting frame with the detected object\n",
    "    cv.imshow('res', res)\n",
    "\n",
    "    # Check for the 'q' key press to exit the loop\n",
    "    if cv.waitKey(1) == ord('q'):\n",
    "        break\n",
    "\n",
    "# Release the video capture and close all windows\n",
    "cap.release()\n",
    "cv.destroyAllWindows()"
   ],
   "metadata": {
    "collapsed": false,
    "ExecuteTime": {
     "end_time": "2023-05-13T20:43:53.807564600Z",
     "start_time": "2023-05-13T20:43:45.537052200Z"
    }
   }
  }
 ],
 "metadata": {
  "kernelspec": {
   "display_name": "Python 3",
   "language": "python",
   "name": "python3"
  },
  "language_info": {
   "codemirror_mode": {
    "name": "ipython",
    "version": 2
   },
   "file_extension": ".py",
   "mimetype": "text/x-python",
   "name": "python",
   "nbconvert_exporter": "python",
   "pygments_lexer": "ipython2",
   "version": "2.7.6"
  }
 },
 "nbformat": 4,
 "nbformat_minor": 0
}
